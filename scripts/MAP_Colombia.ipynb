{
 "cells": [
  {
   "cell_type": "code",
   "execution_count": null,
   "id": "89425052",
   "metadata": {},
   "outputs": [],
   "source": [
    "import pandas as pd\n",
    "import numpy as np\n",
    "import matplotlib.pyplot as plt\n",
    "import seaborn as sns\n",
    "import plotly.express as px\n",
    "import json\n"
   ]
  },
  {
   "cell_type": "markdown",
   "id": "421394d4",
   "metadata": {},
   "source": [
    "### Lectura data de conteo"
   ]
  },
  {
   "cell_type": "code",
   "execution_count": null,
   "id": "fae7fb47",
   "metadata": {},
   "outputs": [],
   "source": [
    "data = pd.read_csv('../features/data_colombia_completa_2.csv', sep=\";\")\n",
    "data.head(2)"
   ]
  },
  {
   "cell_type": "code",
   "execution_count": null,
   "id": "bacb2317",
   "metadata": {},
   "outputs": [],
   "source": [
    "data.columns"
   ]
  },
  {
   "cell_type": "code",
   "execution_count": null,
   "id": "2b095141",
   "metadata": {},
   "outputs": [],
   "source": [
    "data.info()"
   ]
  },
  {
   "cell_type": "markdown",
   "id": "9a514cf4",
   "metadata": {},
   "source": [
    "### Lectura de archivo jason con coordenadas de los municipios"
   ]
  },
  {
   "cell_type": "code",
   "execution_count": null,
   "id": "84f7b9d5",
   "metadata": {},
   "outputs": [],
   "source": [
    "with open(\"../features/mpio.geojson\") as geo:\n",
    "    data_mpio = json.load(geo)\n",
    "#Lectura de un ejemplo del archivo json\n",
    "data_mpio[\"features\"][0]"
   ]
  },
  {
   "cell_type": "markdown",
   "id": "ee536ad5",
   "metadata": {},
   "source": [
    "#### Se corrigue el codigo del municipio porque le falta a algunos el 0 al inicio"
   ]
  },
  {
   "cell_type": "code",
   "execution_count": null,
   "id": "5d3ea6eb",
   "metadata": {},
   "outputs": [],
   "source": [
    "def corregir_mpios(mpio):\n",
    "    mpio_str = str(mpio)\n",
    "    if len(mpio_str) == 4:\n",
    "        return \"0\"+mpio_str\n",
    "    else:\n",
    "        return mpio_str"
   ]
  },
  {
   "cell_type": "code",
   "execution_count": null,
   "id": "eead8080",
   "metadata": {},
   "outputs": [],
   "source": [
    "data['Municipality code2']= data['Municipality code'].apply(corregir_mpios)\n",
    "data"
   ]
  },
  {
   "cell_type": "code",
   "execution_count": null,
   "id": "2dd1d0ff",
   "metadata": {},
   "outputs": [],
   "source": []
  },
  {
   "cell_type": "markdown",
   "id": "d77dfc8b",
   "metadata": {},
   "source": [
    "## Nota: En los siguientes mapas, encontrarán un area que se encuentra en Blanco, esto es debido a que el domingo 1 de diciembre de 2019 el país vio nacer un nuevo municipio, se trata de Barrancominas uno de los 7 corregimientos del Departamento del Guainía en la amazorinoquía Colombiana que se convierte en el municipio 1.103 del país."
   ]
  },
  {
   "cell_type": "markdown",
   "id": "fd33b2e4",
   "metadata": {},
   "source": [
    "### Mapa de Calor con Tasa de Casos por municipio"
   ]
  },
  {
   "cell_type": "code",
   "execution_count": null,
   "id": "fae68102",
   "metadata": {
    "scrolled": false
   },
   "outputs": [],
   "source": [
    "fig=px.choropleth_mapbox(data,                                        \n",
    "        locations='Municipality code2',                               \n",
    "        featureidkey=\"properties.MPIO_CCNCT\",                         \n",
    "        color='promedio_tasa_dengue_mensual_x10000_habitantes',       \n",
    "        color_continuous_scale= [\"#B2F121\", \"red\"], \n",
    "        geojson=data_mpio,                                           \n",
    "        zoom=4.5,                                   \n",
    "        mapbox_style=\"carto-positron\",            \n",
    "        center={\"lat\": 4.570868, \"lon\": -74.297333}, \n",
    "#         color_continuous_scale=\"Viridis\",         \n",
    "        opacity=0.5,                             \n",
    "        hover_data=['Municipality', 'promedio_tasa_dengue_mensual_x10000_habitantes'],\n",
    "        range_color=(0, 3.21),\n",
    "        )\n",
    "\n",
    "fig.update_geos(fitbounds=\"locations\", visible=False)\n",
    "fig.update_layout(margin={\"r\": 0, \"t\": 0, \"l\": 0, \"b\": 0})\n",
    "fig.show()"
   ]
  },
  {
   "cell_type": "markdown",
   "id": "5a34d28e",
   "metadata": {},
   "source": [
    "### Mapa de Calor con Población por municipio"
   ]
  },
  {
   "cell_type": "code",
   "execution_count": null,
   "id": "e9b62da4",
   "metadata": {},
   "outputs": [],
   "source": [
    "fig2=px.choropleth_mapbox(data,                         \n",
    "        locations='Municipality code2',                   \n",
    "        featureidkey=\"properties.MPIO_CCNCT\",\n",
    "        color='population',                            \n",
    "        color_continuous_scale= [\"#B2F121\", \"red\"], \n",
    "        geojson=data_mpio,                          \n",
    "        zoom=4.5,                                   \n",
    "        mapbox_style=\"carto-positron\",            \n",
    "        center={\"lat\": 4.570868, \"lon\": -74.297333}, \n",
    "#         color_continuous_scale=\"Viridis\",         \n",
    "        opacity=0.5,                              \n",
    "        hover_data=['Municipality', 'population'],\n",
    "        range_color=(0, 157111),\n",
    "        )\n",
    "\n",
    "fig2.update_geos(fitbounds=\"locations\", visible=False)\n",
    "fig2.update_layout(margin={\"r\": 0, \"t\": 0, \"l\": 0, \"b\": 0})\n",
    "fig2.show()"
   ]
  },
  {
   "cell_type": "markdown",
   "id": "6ee5c021",
   "metadata": {},
   "source": [
    "### Mapa de Calor con Temperatura por municipio"
   ]
  },
  {
   "cell_type": "code",
   "execution_count": null,
   "id": "ebfddae8",
   "metadata": {},
   "outputs": [],
   "source": [
    "fig3=px.choropleth_mapbox(data,                         \n",
    "        locations='Municipality code2',                   \n",
    "        featureidkey=\"properties.MPIO_CCNCT\",\n",
    "        color='temperature',                            \n",
    "        color_continuous_scale= [\"#B2F121\", \"red\"], \n",
    "        geojson=data_mpio,                          \n",
    "        zoom=4.5,                                   \n",
    "        mapbox_style=\"carto-positron\",            \n",
    "        center={\"lat\": 4.570868, \"lon\": -74.297333}, \n",
    "#         color_continuous_scale=\"Viridis\",         \n",
    "        opacity=0.5,                              \n",
    "        hover_data=['Municipality', 'temperature'],\n",
    "        range_color=(4, 31.63),\n",
    "        )\n",
    "\n",
    "fig3.update_geos(fitbounds=\"locations\", visible=False)\n",
    "fig3.update_layout(margin={\"r\": 0, \"t\": 0, \"l\": 0, \"b\": 0})\n",
    "fig3.show()"
   ]
  },
  {
   "cell_type": "markdown",
   "id": "630e3f36",
   "metadata": {},
   "source": [
    "### Mapa de Calor con Precipitación por municipio"
   ]
  },
  {
   "cell_type": "code",
   "execution_count": null,
   "id": "72c2fbd8",
   "metadata": {},
   "outputs": [],
   "source": [
    "fig4=px.choropleth_mapbox(data,                         \n",
    "        locations='Municipality code2',                   \n",
    "        featureidkey=\"properties.MPIO_CCNCT\",\n",
    "        color='precipitation',                            \n",
    "        color_continuous_scale= [\"#B2F121\", \"red\"], \n",
    "        geojson=data_mpio,                          \n",
    "        zoom=4.5,                                   \n",
    "        mapbox_style=\"carto-positron\",            \n",
    "        center={\"lat\": 4.570868, \"lon\": -74.297333}, \n",
    "#         color_continuous_scale=\"Viridis\",         \n",
    "        opacity=0.5,                              \n",
    "        hover_data=['Municipality', 'precipitation'],\n",
    "        range_color=(0.11, 412.24),\n",
    "        )\n",
    "\n",
    "fig4.update_geos(fitbounds=\"locations\", visible=False)\n",
    "fig4.update_layout(margin={\"r\": 0, \"t\": 0, \"l\": 0, \"b\": 0})\n",
    "fig4.show()"
   ]
  },
  {
   "cell_type": "code",
   "execution_count": null,
   "id": "6a8f24bf",
   "metadata": {},
   "outputs": [],
   "source": [
    "data.temperature.quantile(0.95)"
   ]
  },
  {
   "cell_type": "code",
   "execution_count": null,
   "id": "0e0eb44c",
   "metadata": {},
   "outputs": [],
   "source": [
    "data.precipitation.max()"
   ]
  },
  {
   "cell_type": "code",
   "execution_count": null,
   "id": "c07405f3",
   "metadata": {},
   "outputs": [],
   "source": []
  }
 ],
 "metadata": {
  "kernelspec": {
   "display_name": "Python 3",
   "language": "python",
   "name": "python3"
  },
  "language_info": {
   "codemirror_mode": {
    "name": "ipython",
    "version": 3
   },
   "file_extension": ".py",
   "mimetype": "text/x-python",
   "name": "python",
   "nbconvert_exporter": "python",
   "pygments_lexer": "ipython3",
   "version": "3.8.8"
  }
 },
 "nbformat": 4,
 "nbformat_minor": 5
}
