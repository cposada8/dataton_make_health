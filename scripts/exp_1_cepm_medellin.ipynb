{
 "cells": [
  {
   "cell_type": "markdown",
   "id": "87487da3",
   "metadata": {},
   "source": [
    "notebook para hacer el primer modelo de medellín. \n",
    "\n",
    "Experimento 1"
   ]
  },
  {
   "cell_type": "code",
   "execution_count": 17,
   "id": "3b7058ea",
   "metadata": {},
   "outputs": [],
   "source": [
    "import pandas as pd\n",
    "import numpy as np\n",
    "import os\n",
    "import matplotlib.pyplot as plt"
   ]
  },
  {
   "cell_type": "code",
   "execution_count": 11,
   "id": "0aa45927",
   "metadata": {},
   "outputs": [
    {
     "data": {
      "text/plain": [
       "['Dataset Dengue (Espanol).pdf',\n",
       " 'Dengue Dataset.pdf',\n",
       " 'Dengue_Dataset(Medellin).csv',\n",
       " 'dengue_data_all_municipalities.csv',\n",
       " 'embeddings_medellin_100features.csv',\n",
       " 'embeddings_medellin_200features.csv',\n",
       " 'features_resnet50.csv',\n",
       " 'features_transformer.csv',\n",
       " 'pca_medellin_100features.csv',\n",
       " 'pca_medellin_120features(10_per_band).csv']"
      ]
     },
     "execution_count": 11,
     "metadata": {},
     "output_type": "execute_result"
    }
   ],
   "source": [
    "os.listdir(\"../data/Dengue_Dataset(Medellin).csv\")"
   ]
  },
  {
   "cell_type": "code",
   "execution_count": 13,
   "id": "4db69919",
   "metadata": {},
   "outputs": [
    {
     "data": {
      "text/plain": [
       "'..\\\\data\\\\Dengue_Dataset(Medellin).csv'"
      ]
     },
     "execution_count": 13,
     "metadata": {},
     "output_type": "execute_result"
    }
   ],
   "source": [
    "data_path = os.path.join('..', 'data', 'Dengue_Dataset(Medellin).csv')\n",
    "data_path"
   ]
  },
  {
   "cell_type": "code",
   "execution_count": 14,
   "id": "991c2143",
   "metadata": {},
   "outputs": [],
   "source": [
    "data = pd.read_csv(data_path)"
   ]
  },
  {
   "cell_type": "code",
   "execution_count": 16,
   "id": "5fee1837",
   "metadata": {},
   "outputs": [
    {
     "data": {
      "text/html": [
       "<div>\n",
       "<style scoped>\n",
       "    .dataframe tbody tr th:only-of-type {\n",
       "        vertical-align: middle;\n",
       "    }\n",
       "\n",
       "    .dataframe tbody tr th {\n",
       "        vertical-align: top;\n",
       "    }\n",
       "\n",
       "    .dataframe thead th {\n",
       "        text-align: right;\n",
       "    }\n",
       "</style>\n",
       "<table border=\"1\" class=\"dataframe\">\n",
       "  <thead>\n",
       "    <tr style=\"text-align: right;\">\n",
       "      <th></th>\n",
       "      <th>cases_medellin</th>\n",
       "      <th>DATA</th>\n",
       "      <th>YEAR</th>\n",
       "      <th>YearWeek</th>\n",
       "      <th>LastDayWeek</th>\n",
       "      <th>MONTH</th>\n",
       "      <th>precipitation_medellin</th>\n",
       "      <th>precipitation_medellin_rural</th>\n",
       "      <th>precipitation_medellin_urbano</th>\n",
       "      <th>temperature</th>\n",
       "    </tr>\n",
       "  </thead>\n",
       "  <tbody>\n",
       "    <tr>\n",
       "      <th>0</th>\n",
       "      <td>1</td>\n",
       "      <td>['2007', 'w01']</td>\n",
       "      <td>2007</td>\n",
       "      <td>200701</td>\n",
       "      <td>2007-01-06</td>\n",
       "      <td>1</td>\n",
       "      <td>13.096688</td>\n",
       "      <td>14.097693</td>\n",
       "      <td>12.628933</td>\n",
       "      <td>19.615357</td>\n",
       "    </tr>\n",
       "    <tr>\n",
       "      <th>1</th>\n",
       "      <td>0</td>\n",
       "      <td>['2007', 'w02']</td>\n",
       "      <td>2007</td>\n",
       "      <td>200702</td>\n",
       "      <td>2007-01-13</td>\n",
       "      <td>1</td>\n",
       "      <td>8.437044</td>\n",
       "      <td>6.910390</td>\n",
       "      <td>9.067214</td>\n",
       "      <td>22.234000</td>\n",
       "    </tr>\n",
       "    <tr>\n",
       "      <th>2</th>\n",
       "      <td>0</td>\n",
       "      <td>['2007', 'w03']</td>\n",
       "      <td>2007</td>\n",
       "      <td>200703</td>\n",
       "      <td>2007-01-20</td>\n",
       "      <td>1</td>\n",
       "      <td>19.373165</td>\n",
       "      <td>21.616968</td>\n",
       "      <td>18.406665</td>\n",
       "      <td>22.268857</td>\n",
       "    </tr>\n",
       "    <tr>\n",
       "      <th>3</th>\n",
       "      <td>0</td>\n",
       "      <td>['2007', 'w04']</td>\n",
       "      <td>2007</td>\n",
       "      <td>200704</td>\n",
       "      <td>2007-01-27</td>\n",
       "      <td>1</td>\n",
       "      <td>0.000000</td>\n",
       "      <td>0.000000</td>\n",
       "      <td>0.000000</td>\n",
       "      <td>23.546000</td>\n",
       "    </tr>\n",
       "    <tr>\n",
       "      <th>4</th>\n",
       "      <td>0</td>\n",
       "      <td>['2007', 'w05']</td>\n",
       "      <td>2007</td>\n",
       "      <td>200705</td>\n",
       "      <td>2007-02-03</td>\n",
       "      <td>2</td>\n",
       "      <td>3.725206</td>\n",
       "      <td>3.144225</td>\n",
       "      <td>3.901021</td>\n",
       "      <td>25.353071</td>\n",
       "    </tr>\n",
       "  </tbody>\n",
       "</table>\n",
       "</div>"
      ],
      "text/plain": [
       "   cases_medellin             DATA  YEAR  YearWeek LastDayWeek  MONTH  \\\n",
       "0               1  ['2007', 'w01']  2007    200701  2007-01-06      1   \n",
       "1               0  ['2007', 'w02']  2007    200702  2007-01-13      1   \n",
       "2               0  ['2007', 'w03']  2007    200703  2007-01-20      1   \n",
       "3               0  ['2007', 'w04']  2007    200704  2007-01-27      1   \n",
       "4               0  ['2007', 'w05']  2007    200705  2007-02-03      2   \n",
       "\n",
       "   precipitation_medellin  precipitation_medellin_rural  \\\n",
       "0               13.096688                     14.097693   \n",
       "1                8.437044                      6.910390   \n",
       "2               19.373165                     21.616968   \n",
       "3                0.000000                      0.000000   \n",
       "4                3.725206                      3.144225   \n",
       "\n",
       "   precipitation_medellin_urbano  temperature  \n",
       "0                      12.628933    19.615357  \n",
       "1                       9.067214    22.234000  \n",
       "2                      18.406665    22.268857  \n",
       "3                       0.000000    23.546000  \n",
       "4                       3.901021    25.353071  "
      ]
     },
     "execution_count": 16,
     "metadata": {},
     "output_type": "execute_result"
    }
   ],
   "source": [
    "data.head()"
   ]
  },
  {
   "cell_type": "code",
   "execution_count": 19,
   "id": "28a0a1d9",
   "metadata": {
    "scrolled": true
   },
   "outputs": [
    {
     "data": {
      "text/plain": [
       "[<matplotlib.lines.Line2D at 0x19675e32dc0>]"
      ]
     },
     "execution_count": 19,
     "metadata": {},
     "output_type": "execute_result"
    },
    {
     "data": {
      "image/png": "[encoded data removed]",
      "text/plain": [
       "<Figure size 432x288 with 1 Axes>"
      ]
     },
     "metadata": {
      "needs_background": "light"
     },
     "output_type": "display_data"
    }
   ],
   "source": [
    "plt.plot(data[\"cases_medellin\"])"
   ]
  },
  {
   "cell_type": "code",
   "execution_count": null,
   "id": "316bafcc",
   "metadata": {},
   "outputs": [],
   "source": []
  },
  {
   "cell_type": "markdown",
   "id": "35b91e45",
   "metadata": {},
   "source": [
    "# Regresión lineal"
   ]
  },
  {
   "cell_type": "code",
   "execution_count": 36,
   "id": "ac5d6e15",
   "metadata": {},
   "outputs": [
    {
     "data": {
      "text/plain": [
       "cases_medellin                     int64\n",
       "DATA                              object\n",
       "YEAR                               int64\n",
       "YearWeek                           int64\n",
       "LastDayWeek                       object\n",
       "MONTH                              int64\n",
       "precipitation_medellin           float64\n",
       "precipitation_medellin_rural     float64\n",
       "precipitation_medellin_urbano    float64\n",
       "temperature                      float64\n",
       "dtype: object"
      ]
     },
     "execution_count": 36,
     "metadata": {},
     "output_type": "execute_result"
    }
   ],
   "source": [
    "data.dtypes"
   ]
  },
  {
   "cell_type": "code",
   "execution_count": 38,
   "id": "b5b3c44a",
   "metadata": {},
   "outputs": [
    {
     "name": "stdout",
     "output_type": "stream",
     "text": [
      "<class 'pandas.core.frame.DataFrame'>\n",
      "RangeIndex: 624 entries, 0 to 623\n",
      "Data columns (total 10 columns):\n",
      " #   Column                         Non-Null Count  Dtype  \n",
      "---  ------                         --------------  -----  \n",
      " 0   cases_medellin                 624 non-null    int64  \n",
      " 1   DATA                           624 non-null    object \n",
      " 2   YEAR                           624 non-null    int64  \n",
      " 3   YearWeek                       624 non-null    int64  \n",
      " 4   LastDayWeek                    624 non-null    object \n",
      " 5   MONTH                          624 non-null    int64  \n",
      " 6   precipitation_medellin         624 non-null    float64\n",
      " 7   precipitation_medellin_rural   624 non-null    float64\n",
      " 8   precipitation_medellin_urbano  624 non-null    float64\n",
      " 9   temperature                    623 non-null    float64\n",
      "dtypes: float64(4), int64(4), object(2)\n",
      "memory usage: 48.9+ KB\n"
     ]
    }
   ],
   "source": [
    "data.info()"
   ]
  },
  {
   "cell_type": "code",
   "execution_count": 40,
   "id": "8775e34b",
   "metadata": {},
   "outputs": [],
   "source": [
    "data.dropna(inplace=True)"
   ]
  },
  {
   "cell_type": "code",
   "execution_count": 41,
   "id": "14b6946d",
   "metadata": {},
   "outputs": [
    {
     "name": "stdout",
     "output_type": "stream",
     "text": [
      "'cases_medellin',\n",
      "'DATA',\n",
      "'YEAR',\n",
      "'YearWeek',\n",
      "'LastDayWeek',\n",
      "'MONTH',\n",
      "'precipitation_medellin',\n",
      "'precipitation_medellin_rural',\n",
      "'precipitation_medellin_urbano',\n",
      "'temperature',\n"
     ]
    }
   ],
   "source": [
    "for col in data:\n",
    "    print(f\"'{col}',\")"
   ]
  },
  {
   "cell_type": "code",
   "execution_count": 64,
   "id": "8662e69b",
   "metadata": {},
   "outputs": [],
   "source": [
    "feature_cols = [\n",
    "    'YEAR',\n",
    "'precipitation_medellin',\n",
    "'precipitation_medellin_rural',\n",
    "'precipitation_medellin_urbano',\n",
    "'temperature' ,\n",
    "]"
   ]
  },
  {
   "cell_type": "code",
   "execution_count": 65,
   "id": "61e2f4da",
   "metadata": {},
   "outputs": [],
   "source": [
    "X_orig = data[feature_cols]"
   ]
  },
  {
   "cell_type": "code",
   "execution_count": 66,
   "id": "b55b41bb",
   "metadata": {},
   "outputs": [],
   "source": [
    "y = data['cases_medellin'].values"
   ]
  },
  {
   "cell_type": "code",
   "execution_count": null,
   "id": "81a49341",
   "metadata": {},
   "outputs": [],
   "source": []
  },
  {
   "cell_type": "code",
   "execution_count": 67,
   "id": "03575814",
   "metadata": {},
   "outputs": [],
   "source": [
    "from sklearn.preprocessing import StandardScaler\n",
    "\n",
    "scaler = StandardScaler()\n",
    "\n",
    "## Normalizar las variables de la matriz X\n",
    "scaler.fit(X_orig)\n",
    "\n",
    "X = scaler.transform(X_orig)\n"
   ]
  },
  {
   "cell_type": "code",
   "execution_count": 68,
   "id": "5927fd63",
   "metadata": {},
   "outputs": [
    {
     "name": "stdout",
     "output_type": "stream",
     "text": [
      "(498, 5)\n",
      "(125, 5)\n"
     ]
    }
   ],
   "source": [
    "# Splitting the dataset into the Training set and Val set\n",
    "from sklearn.model_selection import train_test_split\n",
    "X_train, X_val, y_train, y_val = train_test_split(X, y, test_size = 0.2, random_state = 23)\n",
    "print(X_train.shape)\n",
    "print(X_val.shape)"
   ]
  },
  {
   "cell_type": "code",
   "execution_count": 69,
   "id": "84f4a63a",
   "metadata": {},
   "outputs": [
    {
     "data": {
      "text/plain": [
       "LinearRegression()"
      ]
     },
     "execution_count": 69,
     "metadata": {},
     "output_type": "execute_result"
    }
   ],
   "source": [
    "from sklearn.linear_model import LinearRegression\n",
    "lr = LinearRegression()\n",
    "lr.fit(X_train, y_train)"
   ]
  },
  {
   "cell_type": "code",
   "execution_count": 70,
   "id": "70fb8ba6",
   "metadata": {},
   "outputs": [],
   "source": [
    "y_train_pred=lr.predict(X_train)\n",
    "y_val_pred=lr.predict(X_val)\n"
   ]
  },
  {
   "cell_type": "code",
   "execution_count": 71,
   "id": "99d3077d",
   "metadata": {},
   "outputs": [],
   "source": [
    "import sklearn.metrics as metrics\n",
    "from math import sqrt \n",
    "# Métricas de evaluación.\n",
    "metricas = {\n",
    "  'MAE':  metrics.mean_absolute_error,\n",
    "  'MSE':  metrics.mean_squared_error,\n",
    "  'RMSE': lambda y, y_pred:\n",
    "          sqrt(metrics.mean_squared_error(y, y_pred)),\n",
    "  'MAPE': lambda y, y_pred:\n",
    "          np.mean(np.abs((y - y_pred) / y)) * 100,\n",
    "  'R2':   metrics.r2_score}"
   ]
  },
  {
   "cell_type": "code",
   "execution_count": 72,
   "id": "6bf7ce13",
   "metadata": {},
   "outputs": [
    {
     "name": "stderr",
     "output_type": "stream",
     "text": [
      "<ipython-input-71-bb8441d961b3>:10: RuntimeWarning: divide by zero encountered in true_divide\n",
      "  np.mean(np.abs((y - y_pred) / y)) * 100,\n"
     ]
    },
    {
     "data": {
      "text/plain": [
       "{'MAE': 76.40504475135933,\n",
       " 'MSE': 16651.376910418534,\n",
       " 'RMSE': 129.04021431483494,\n",
       " 'MAPE': inf,\n",
       " 'R2': 0.04092268454328707}"
      ]
     },
     "execution_count": 72,
     "metadata": {},
     "output_type": "execute_result"
    }
   ],
   "source": [
    "reporte_train = {met: metricas[met](y_train, y_train_pred) for met in metricas}\n",
    "reporte_train"
   ]
  },
  {
   "cell_type": "code",
   "execution_count": 73,
   "id": "3945a4c7",
   "metadata": {},
   "outputs": [
    {
     "name": "stderr",
     "output_type": "stream",
     "text": [
      "<ipython-input-71-bb8441d961b3>:10: RuntimeWarning: divide by zero encountered in true_divide\n",
      "  np.mean(np.abs((y - y_pred) / y)) * 100,\n"
     ]
    },
    {
     "data": {
      "text/plain": [
       "{'MAE': 85.23633441287653,\n",
       " 'MSE': 23191.674045877106,\n",
       " 'RMSE': 152.28812838129275,\n",
       " 'MAPE': inf,\n",
       " 'R2': 0.012600355773423555}"
      ]
     },
     "execution_count": 73,
     "metadata": {},
     "output_type": "execute_result"
    }
   ],
   "source": [
    "reporte_val = {met: metricas[met](y_val, y_val_pred) for met in metricas}\n",
    "reporte_val"
   ]
  },
  {
   "cell_type": "code",
   "execution_count": 74,
   "id": "3d13c8a2",
   "metadata": {},
   "outputs": [
    {
     "data": {
      "text/plain": [
       "[<matplotlib.lines.Line2D at 0x196090b2a00>]"
      ]
     },
     "execution_count": 74,
     "metadata": {},
     "output_type": "execute_result"
    },
    {
     "data": {
      "image/png": "[encoded data removed]",
      "text/plain": [
       "<Figure size 432x288 with 1 Axes>"
      ]
     },
     "metadata": {
      "needs_background": "light"
     },
     "output_type": "display_data"
    }
   ],
   "source": [
    "plt.plot(y_train)\n",
    "plt.plot(y_train_pred)"
   ]
  },
  {
   "cell_type": "code",
   "execution_count": 75,
   "id": "8c95de69",
   "metadata": {},
   "outputs": [
    {
     "data": {
      "text/plain": [
       "[<matplotlib.lines.Line2D at 0x1967fc635b0>]"
      ]
     },
     "execution_count": 75,
     "metadata": {},
     "output_type": "execute_result"
    },
    {
     "data": {
      "image/png": "[encoded data removed]",
      "text/plain": [
       "<Figure size 432x288 with 1 Axes>"
      ]
     },
     "metadata": {
      "needs_background": "light"
     },
     "output_type": "display_data"
    }
   ],
   "source": [
    "plt.plot(y_val)\n",
    "plt.plot(y_val_pred)"
   ]
  },
  {
   "cell_type": "code",
   "execution_count": null,
   "id": "4e4ba76a",
   "metadata": {},
   "outputs": [],
   "source": []
  },
  {
   "cell_type": "code",
   "execution_count": null,
   "id": "b46e7a66",
   "metadata": {},
   "outputs": [],
   "source": []
  },
  {
   "cell_type": "code",
   "execution_count": null,
   "id": "cab7c245",
   "metadata": {},
   "outputs": [],
   "source": []
  },
  {
   "cell_type": "code",
   "execution_count": null,
   "id": "dc45e2ad",
   "metadata": {},
   "outputs": [],
   "source": []
  }
 ],
 "metadata": {
  "kernelspec": {
   "display_name": "Python 3",
   "language": "python",
   "name": "python3"
  },
  "language_info": {
   "codemirror_mode": {
    "name": "ipython",
    "version": 3
   },
   "file_extension": ".py",
   "mimetype": "text/x-python",
   "name": "python",
   "nbconvert_exporter": "python",
   "pygments_lexer": "ipython3",
   "version": "3.8.8"
  }
 },
 "nbformat": 4,
 "nbformat_minor": 5
}
