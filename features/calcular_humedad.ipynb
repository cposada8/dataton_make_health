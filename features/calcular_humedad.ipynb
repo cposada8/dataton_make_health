{
 "cells": [
  {
   "cell_type": "code",
   "execution_count": 1,
   "id": "ffe5e1e9-5809-499d-baf9-9d67e7bdccfe",
   "metadata": {},
   "outputs": [],
   "source": [
    "import pandas as pd"
   ]
  },
  {
   "cell_type": "markdown",
   "id": "02460829-f96e-4926-a78e-c30fa9518d79",
   "metadata": {},
   "source": [
    "## humedad por departamento utilizando los datos libres del IDEAM"
   ]
  },
  {
   "cell_type": "code",
   "execution_count": 2,
   "id": "647afd6f-1b14-4a1d-96c7-fa0b1e7e0821",
   "metadata": {},
   "outputs": [
    {
     "name": "stderr",
     "output_type": "stream",
     "text": [
      "/opt/conda/lib/python3.10/site-packages/IPython/core/interactiveshell.py:3398: DtypeWarning: Columns (0) have mixed types.Specify dtype option on import or set low_memory=False.\n",
      "  exec(code_obj, self.user_global_ns, self.user_ns)\n"
     ]
    }
   ],
   "source": [
    "df = pd.read_csv('IDEAM_Colombia.csv',  sep = ',', encoding='latin-1')\n",
    "\n"
   ]
  },
  {
   "cell_type": "code",
   "execution_count": 3,
   "id": "9c328129-9985-4355-aac3-f8c497f28714",
   "metadata": {},
   "outputs": [],
   "source": [
    "limited_df=df[['Cod_Div','Municipio','Humedad']]"
   ]
  },
  {
   "cell_type": "markdown",
   "id": "35ca662c-1aa6-42cc-a69a-ba98f19e3a7f",
   "metadata": {},
   "source": [
    "## Agrupamos por municipio y calculamos el promedio"
   ]
  },
  {
   "cell_type": "code",
   "execution_count": 4,
   "id": "6b5d5027-9df2-4c8a-bdb7-7a86998a3a05",
   "metadata": {},
   "outputs": [],
   "source": [
    "df_promedio=limited_df.groupby([\"Cod_Div\",\"Municipio\"], as_index=False).mean()"
   ]
  },
  {
   "cell_type": "code",
   "execution_count": 5,
   "id": "7bc41656-e058-45d2-8d2f-c73a80df9d44",
   "metadata": {},
   "outputs": [],
   "source": [
    "def reshape_code(code):\n",
    "    code = str(code)\n",
    "    coditions =[len(code)> 5, code[-3:]=='000']\n",
    "    if  all(coditions):\n",
    "        return code[:-3]\n",
    "    return code\n",
    "    "
   ]
  },
  {
   "cell_type": "code",
   "execution_count": 6,
   "id": "7911e81d-c995-437d-a884-c1e7b76d774d",
   "metadata": {},
   "outputs": [],
   "source": [
    "df_promedio['Cod_Div'] = df_promedio['Cod_Div'].apply(lambda x: reshape_code(x))"
   ]
  },
  {
   "cell_type": "code",
   "execution_count": 7,
   "id": "5aeeb0b2-a42a-483d-9241-4cb07b047ffd",
   "metadata": {},
   "outputs": [
    {
     "data": {
      "text/html": [
       "<div>\n",
       "<style scoped>\n",
       "    .dataframe tbody tr th:only-of-type {\n",
       "        vertical-align: middle;\n",
       "    }\n",
       "\n",
       "    .dataframe tbody tr th {\n",
       "        vertical-align: top;\n",
       "    }\n",
       "\n",
       "    .dataframe thead th {\n",
       "        text-align: right;\n",
       "    }\n",
       "</style>\n",
       "<table border=\"1\" class=\"dataframe\">\n",
       "  <thead>\n",
       "    <tr style=\"text-align: right;\">\n",
       "      <th></th>\n",
       "      <th>Cod_Div</th>\n",
       "      <th>Municipio</th>\n",
       "      <th>Humedad</th>\n",
       "    </tr>\n",
       "  </thead>\n",
       "  <tbody>\n",
       "    <tr>\n",
       "      <th>0</th>\n",
       "      <td>91430</td>\n",
       "      <td>LA VICTORIA</td>\n",
       "      <td>88.761250</td>\n",
       "    </tr>\n",
       "    <tr>\n",
       "      <th>1</th>\n",
       "      <td>99001</td>\n",
       "      <td>PUERTO CARREÑO</td>\n",
       "      <td>88.420000</td>\n",
       "    </tr>\n",
       "    <tr>\n",
       "      <th>2</th>\n",
       "      <td>5001</td>\n",
       "      <td>MEDELLÍN</td>\n",
       "      <td>92.052500</td>\n",
       "    </tr>\n",
       "    <tr>\n",
       "      <th>3</th>\n",
       "      <td>5002</td>\n",
       "      <td>ABEJORRAL</td>\n",
       "      <td>92.398750</td>\n",
       "    </tr>\n",
       "    <tr>\n",
       "      <th>4</th>\n",
       "      <td>5004</td>\n",
       "      <td>ABRIAQUÍ</td>\n",
       "      <td>92.370000</td>\n",
       "    </tr>\n",
       "    <tr>\n",
       "      <th>...</th>\n",
       "      <td>...</td>\n",
       "      <td>...</td>\n",
       "      <td>...</td>\n",
       "    </tr>\n",
       "    <tr>\n",
       "      <th>1124</th>\n",
       "      <td>CE</td>\n",
       "      <td>CARIBE ORIENTE</td>\n",
       "      <td>86.810465</td>\n",
       "    </tr>\n",
       "    <tr>\n",
       "      <th>1125</th>\n",
       "      <td>CO</td>\n",
       "      <td>CARIBE OCCIDENTE</td>\n",
       "      <td>78.465116</td>\n",
       "    </tr>\n",
       "    <tr>\n",
       "      <th>1126</th>\n",
       "      <td>PC</td>\n",
       "      <td>PACÍFICO CENTRO</td>\n",
       "      <td>87.284884</td>\n",
       "    </tr>\n",
       "    <tr>\n",
       "      <th>1127</th>\n",
       "      <td>PN</td>\n",
       "      <td>PACÍFICO NORTE</td>\n",
       "      <td>85.767442</td>\n",
       "    </tr>\n",
       "    <tr>\n",
       "      <th>1128</th>\n",
       "      <td>PS</td>\n",
       "      <td>PACÍFICO SUR</td>\n",
       "      <td>80.474419</td>\n",
       "    </tr>\n",
       "  </tbody>\n",
       "</table>\n",
       "<p>1129 rows × 3 columns</p>\n",
       "</div>"
      ],
      "text/plain": [
       "     Cod_Div         Municipio    Humedad\n",
       "0      91430       LA VICTORIA  88.761250\n",
       "1      99001    PUERTO CARREÑO  88.420000\n",
       "2       5001          MEDELLÍN  92.052500\n",
       "3       5002         ABEJORRAL  92.398750\n",
       "4       5004          ABRIAQUÍ  92.370000\n",
       "...      ...               ...        ...\n",
       "1124      CE    CARIBE ORIENTE  86.810465\n",
       "1125      CO  CARIBE OCCIDENTE  78.465116\n",
       "1126      PC   PACÍFICO CENTRO  87.284884\n",
       "1127      PN    PACÍFICO NORTE  85.767442\n",
       "1128      PS      PACÍFICO SUR  80.474419\n",
       "\n",
       "[1129 rows x 3 columns]"
      ]
     },
     "execution_count": 7,
     "metadata": {},
     "output_type": "execute_result"
    }
   ],
   "source": [
    "df_promedio"
   ]
  },
  {
   "cell_type": "code",
   "execution_count": 10,
   "id": "edeee184-4e1d-462a-8c09-a7d10442484d",
   "metadata": {},
   "outputs": [],
   "source": [
    "from pathlib import Path\n",
    "filepath = Path('humedad_municipios.csv')  \n",
    "filepath.parent.mkdir(parents=True, exist_ok=True)  \n",
    "df_promedio.to_csv(filepath, index=False)"
   ]
  },
  {
   "cell_type": "code",
   "execution_count": null,
   "id": "d0feb934-1c06-4b43-8f1f-17621c8a47cb",
   "metadata": {},
   "outputs": [],
   "source": []
  }
 ],
 "metadata": {
  "kernelspec": {
   "display_name": "Python 3 (ipykernel)",
   "language": "python",
   "name": "python3"
  },
  "language_info": {
   "codemirror_mode": {
    "name": "ipython",
    "version": 3
   },
   "file_extension": ".py",
   "mimetype": "text/x-python",
   "name": "python",
   "nbconvert_exporter": "python",
   "pygments_lexer": "ipython3",
   "version": "3.10.5"
  }
 },
 "nbformat": 4,
 "nbformat_minor": 5
}
